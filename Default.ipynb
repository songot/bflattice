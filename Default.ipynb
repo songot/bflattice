{
 "cells": [
  {
   "cell_type": "code",
   "execution_count": null,
   "metadata": {},
   "outputs": [],
   "source": [
    "!python -m pip install numpy"
   ]
  },
  {
   "cell_type": "code",
   "execution_count": null,
   "metadata": {},
   "outputs": [],
   "source": [
    "import random\n",
    "\n",
    "def new_core(core, leave, j):\n",
    "    if type(leave)is dict:\n",
    "        del core[j]\n",
    "        core = {**core, **leave}\n",
    "        #print(core)\n",
    "    elif type(leave) is str:\n",
    "        #print('leave is str')\n",
    "        del core[j]\n",
    "        #print(core)\n",
    "    else:\n",
    "        #print('leave is not dict')\n",
    "        del core[j]\n",
    "        for el in leave:\n",
    "            core[el]=el\n",
    "        #print(core)\n",
    "    return core\n",
    "\n",
    "def create_path(core):\n",
    "    leave = {}\n",
    "    j = ''\n",
    "    path = ''\n",
    "    while core:\n",
    "        dice = len(core)\n",
    "        roll = random.randint(0, dice-1)\n",
    "        counter = 0\n",
    "        for i in core:\n",
    "            if counter == roll:\n",
    "                leave = core[i]\n",
    "                j=i\n",
    "            counter+=1\n",
    "        if not j in path:\n",
    "            path = path+j\n",
    "        core = new_core(core, leave, j)\n",
    "    print(path)\n",
    "    \n",
    "for i in range(100000):\n",
    "    core = {'6':{'3':{'0', '1'}, '4':{'1', '2'}, '5':{'0', '1'}}}\n",
    "    create_path(core)"
   ]
  },
  {
   "cell_type": "code",
   "execution_count": null,
   "metadata": {},
   "outputs": [],
   "source": [
    "core = {'6':{'3':{'0', '1'}, '4':{'1', '2'}, '5':{'0', '1'}}}\n",
    "#for i in core:\n",
    "#leave = core[i]\n",
    "#del core[i]\n",
    "#core['retard'] = 'foo'\n",
    "#core = {**core, **leave}\n",
    "#print(core)\n",
    "while core:\n",
    "    leave = {}\n",
    "    j = ''\n",
    "    for i in core:\n",
    "        j=i\n",
    "        leave = core[i]\n",
    "    del core[j]\n",
    "    #print(leave)\n",
    "    core = {**core, **leave}\n",
    "    print(core)"
   ]
  },
  {
   "cell_type": "code",
   "execution_count": null,
   "metadata": {},
   "outputs": [],
   "source": [
    "import random\n",
    "core = {'6':{'3':{'0', '1'}, '4':{'1', '2'}, '5':{'0', '1'}}}\n",
    "#len(core)\n",
    "print(random.randint(0, len(core)))"
   ]
  }
 ],
 "metadata": {
  "kernelspec": {
   "display_name": "Python 3",
   "language": "python",
   "name": "python3"
  },
  "language_info": {
   "codemirror_mode": {
    "name": "ipython",
    "version": 3
   },
   "file_extension": ".py",
   "mimetype": "text/x-python",
   "name": "python",
   "nbconvert_exporter": "python",
   "pygments_lexer": "ipython3",
   "version": "3.7.6"
  }
 },
 "nbformat": 4,
 "nbformat_minor": 4
}
